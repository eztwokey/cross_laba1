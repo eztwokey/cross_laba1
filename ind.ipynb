{
 "cells": [
  {
   "cell_type": "markdown",
   "metadata": {},
   "source": [
    "<h1>Задача "
   ]
  },
  {
   "cell_type": "markdown",
   "metadata": {},
   "source": [
    "<h3>Условие :\n",
    "\n"
   ]
  },
  {
   "cell_type": "markdown",
   "metadata": {},
   "source": [
    "Брусок массой 3 кг находится на наклонной плоскости, составляющей угол 45° с горизонтом. \n",
    "Какую наименьшую горизонтальную силу следует приложить к бруску, чтобы он покоился, \n",
    "если коэффициент трения между бруском и плоскостью равен 0,5?\n"
   ]
  },
  {
   "cell_type": "markdown",
   "metadata": {},
   "source": [
    "<h3> Дано :"
   ]
  },
  {
   "cell_type": "code",
   "execution_count": 24,
   "metadata": {},
   "outputs": [],
   "source": [
    "m = 3\n",
    "a = 45\n",
    "g = 10\n",
    "qtren = 0.5"
   ]
  },
  {
   "cell_type": "markdown",
   "metadata": {},
   "source": [
    "<h3> Формулы и данные для решения задачи"
   ]
  },
  {
   "cell_type": "markdown",
   "metadata": {},
   "source": [
    "Необходимые данные\n",
    "\n",
    "Масса = 3 кг\n",
    "Угол(a) = 45 градусов \n",
    "Ускорение свободного падения g = 10 м/с^2\n",
    "Коэффициент трения = 0.5\n",
    "\n",
    "N=mg⋅cosα+F⋅sinα\n",
    "Отсюда, F=(mg(sinα–μ⋅cosα))/(cosα+μ⋅sinα)\n"
   ]
  },
  {
   "cell_type": "markdown",
   "metadata": {},
   "source": [
    "<h3> Решение:"
   ]
  },
  {
   "cell_type": "code",
   "execution_count": 27,
   "metadata": {},
   "outputs": [
    {
     "name": "stdout",
     "output_type": "stream",
     "text": [
      "18.56096246201884 Ньютонов\n"
     ]
    }
   ],
   "source": [
    "import math\n",
    "F=(3*10*(math.sin(a) - 0.5*math.cos(a)))/(math.cos(a) + 0.5*math.sin(a))\n",
    "print(F,\"Ньютонов\")"
   ]
  },
  {
   "cell_type": "code",
   "execution_count": null,
   "metadata": {},
   "outputs": [],
   "source": []
  }
 ],
 "metadata": {
  "kernelspec": {
   "display_name": "Python 3",
   "language": "python",
   "name": "python3"
  },
  "language_info": {
   "codemirror_mode": {
    "name": "ipython",
    "version": 3
   },
   "file_extension": ".py",
   "mimetype": "text/x-python",
   "name": "python",
   "nbconvert_exporter": "python",
   "pygments_lexer": "ipython3",
   "version": "3.8.5"
  }
 },
 "nbformat": 4,
 "nbformat_minor": 4
}
