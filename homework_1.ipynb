{
 "cells": [
  {
   "cell_type": "markdown",
   "metadata": {},
   "source": [
    "# Первое домашнее задание по курсу Основы АД в МО\n",
    "Во всех задачах разрешается заводить любые промежуточные переменные, не указанные в условии, которые вам могут понадобиться."
   ]
  },
  {
   "cell_type": "markdown",
   "metadata": {},
   "source": [
    "## 1. Градус Фаренгейта\n",
    "В некоторых странах используется метрическая система, отличная от нашей. Например, в США температуру принято измерять в градусах [Фаренгейта](https://ru.wikipedia.org/wiki/%D0%93%D1%80%D0%B0%D0%B4%D1%83%D1%81_%D0%A4%D0%B0%D1%80%D0%B5%D0%BD%D0%B3%D0%B5%D0%B9%D1%82%D0%B0), а не Цельсия. Напишите программу, которая будет переводить температуру из одной системы в другую.\n",
    "1. Заведите переменную, хранящую температуру по Фаренгейту.\n",
    "2. Выведите на экран температуру в градусах Цельсия."
   ]
  },
  {
   "cell_type": "code",
   "execution_count": null,
   "metadata": {},
   "outputs": [],
   "source": [
    "f = int(input(\"Введите значение температуры по Фаренгейту\"))\n",
    "c = (f-32)/1.8\n",
    "print(\"Температура в градусах Цельсия равна\", c)"
   ]
  },
  {
   "cell_type": "markdown",
   "metadata": {},
   "source": [
    "## 2. Say Hi\n",
    "Заведите переменную `name`, которая будет хранить ваше имя, и `age`, которая будет хранить ваш возраст.\n",
    "\n",
    "Выведите на экран строку формата `Привет, меня зовут <имя>, мне <возраст> лет.`.\n",
    "\n",
    "Пример вывода:\n",
    "\n",
    "```\n",
    "Привет, меня зовут Питон, мне 28 лет.\n",
    "```"
   ]
  },
  {
   "cell_type": "code",
   "execution_count": null,
   "metadata": {},
   "outputs": [],
   "source": [
    "name = \"Кирилл\"\n",
    "age = 19\n",
    "print(\"Привет, меня зовут \", name,\"мне \", age,\"лет.\")"
   ]
  },
  {
   "cell_type": "markdown",
   "metadata": {},
   "source": [
    "## 3. Площадь и периметр прямоугольника\n",
    "![](http://infofaq.ru/wp-content/uploads/2016/10/prjamoug-300x178.png)\n",
    "1. Заведите две переменные для длин сторон прямоугольника, задайте им произвольные значения и выведите переменные на экран.\n",
    "2. Выведите на экран значения площади и периметра прямоугольника в формате:\n",
    "```\n",
    "Периметр прямоугольника: <число>\n",
    "Площадь прямоугольника: <число>\n",
    "```"
   ]
  },
  {
   "cell_type": "code",
   "execution_count": 5,
   "metadata": {},
   "outputs": [
    {
     "ename": "SyntaxError",
     "evalue": "invalid syntax (<ipython-input-5-d4d39c4a9962>, line 3)",
     "output_type": "error",
     "traceback": [
      "\u001b[1;36m  File \u001b[1;32m\"<ipython-input-5-d4d39c4a9962>\"\u001b[1;36m, line \u001b[1;32m3\u001b[0m\n\u001b[1;33m    print(\"Cторона (a):\", a, /n \"Вторая сторона (b):\", b)\u001b[0m\n\u001b[1;37m                             ^\u001b[0m\n\u001b[1;31mSyntaxError\u001b[0m\u001b[1;31m:\u001b[0m invalid syntax\n"
     ]
    }
   ],
   "source": [
    "a = 24\n",
    "b = 42\n",
    "print(\"Cторона (a):\", a,\"Вторая сторона (b):\", b)\n",
    "P = 2*(a+b)\n",
    "S = a*b\n",
    "print(\"Периметр прямоугольника:\", P)\n",
    "print(\"Площадь прямоугольника:\", S)"
   ]
  },
  {
   "cell_type": "code",
   "execution_count": null,
   "metadata": {},
   "outputs": [],
   "source": []
  }
 ],
 "metadata": {
  "kernelspec": {
   "display_name": "Python 3",
   "language": "python",
   "name": "python3"
  },
  "language_info": {
   "codemirror_mode": {
    "name": "ipython",
    "version": 3
   },
   "file_extension": ".py",
   "mimetype": "text/x-python",
   "name": "python",
   "nbconvert_exporter": "python",
   "pygments_lexer": "ipython3",
   "version": "3.8.5"
  }
 },
 "nbformat": 4,
 "nbformat_minor": 2
}
